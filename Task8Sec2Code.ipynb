# ✅ Load & preprocess
df = pd.read_csv('fraud_detection.csv')

print("\nMissing values:\n", df.isnull().sum())

# Label encode 'Type'
from sklearn.preprocessing import LabelEncoder

le = LabelEncoder()
df['TypeEncoded'] = le.fit_transform(df['Type'])

# ✅ Feature Engineering: Create new feature
df['Amount_log'] = np.log(df['Amount'] + 1)

# ✅ Features & target
X = df[['Amount', 'TypeEncoded', 'Amount_log']]
y = df['IsFraud']

# ✅ Train/Test split
from sklearn.model_selection import train_test_split
from sklearn.tree import DecisionTreeClassifier
from sklearn.metrics import classification_report

X_train, X_test, y_train, y_test = train_test_split(X, y, test_size=0.3, random_state=42)

# ✅ Train Decision Tree
model = DecisionTreeClassifier(max_depth=4, random_state=42)
model.fit(X_train, y_train)

# ✅ Predict & Evaluate
y_pred = model.predict(X_test)

print("\nClassification Report:\n", classification_report(y_test, y_pred))
