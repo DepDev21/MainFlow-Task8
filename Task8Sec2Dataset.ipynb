import pandas as pd
import numpy as np

np.random.seed(42)

# Create dummy fraud data
df_fraud = pd.DataFrame({
    'TransactionID': np.arange(1, 51),
    'Amount': np.random.uniform(10, 500, 50),
    'Type': np.random.choice(['credit', 'debit'], 50),
    'IsFraud': np.random.choice([0, 1], 50, p=[0.9, 0.1])  # 10% fraud
})

df_fraud.to_csv('fraud_detection.csv', index=False)
print(df_fraud.head())
