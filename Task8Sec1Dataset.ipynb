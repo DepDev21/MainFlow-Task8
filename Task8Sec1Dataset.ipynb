import pandas as pd
import numpy as np

# ✅ Generate dummy student data
np.random.seed(42)
df_students = pd.DataFrame({
    'Math': np.random.randint(40, 100, 20),
    'Science': np.random.randint(40, 100, 20),
    'English': np.random.randint(40, 100, 20)
})

# ✅ Pass/Fail label: Total >= 180 → Pass
df_students['TotalScore'] = df_students['Math'] + df_students['Science'] + df_students['English']
df_students['Pass'] = (df_students['TotalScore'] >= 180).astype(int)

df_students.to_csv('students.csv', index=False)
print(df_students.head())
